{
  "metadata": {
    "language_info": {
      "name": "python"
    },
    "sessionKeepAliveTimeout": 30
  },
  "nbformat": 4,
  "nbformat_minor": 2,
  "cells": [
    {
      "cell_type": "code",
      "execution_count": null,
      "outputs": [],
      "metadata": {},
      "source": [
        "from datetime import datetime\n",
        "import requests\n",
        "\n",
        "powerbi_url = 'https://api.powerbi.com/beta/e6816e25-41db-4bb7-b1a6-25a718776f8c/datasets/0e52da13-d7f0-4de4-9c17-0dfae5901086/rows?noSignUpCheck=1&key=KuP07u%2BOUXi307hcRo2fqD6DCC93LaB5aLD5VmcOlKInPJhxfuT7j55ePVgA7I3SVp%2Bh087QfOwzlHF85d69Rw%3D%3D'\n",
        "\n",
        "df = spark.sql('''\n",
        "\tSELECT\n",
        "\t\tCOUNT(distinct vehicle_id) as TotalVehicles,\n",
        "\t\tCOUNT(distinct CASE WHEN status IN ('trip-started','trip-otw','trip-finished') THEN vehicle_id ELSE NULL END) as VehiclesOnTheWay\n",
        "\tFROM (\n",
        "\t\tSELECT\n",
        "\t\t\tV.vehicle_id,\n",
        "\t\t\tV.status\n",
        "\t\tFROM FROM VehiclesDemo.VehiclesLog V\n",
        "\t\tINNER JOIN (\n",
        "\t\t\tSELECT\n",
        "\t\t\t\tvehicle_id,\n",
        "\t\t\t\tMAX(Timestamp) as max_timestamp\n",
        "\t\t\tFROM VehiclesDemo.VehiclesLog\n",
        "\t\t\tWHERE timestamp > '2020-07-29 16:00:40.000'\n",
        "\t\t\tGROUP BY vehicle_id\n",
        "\t\t) V1 ON V.vehicle_id = V1.vehicle_id and v.timestamp = V1.max_timestamp\n",
        "\t) Vehicle(vehicle_id,status)\n",
        "''')\n",
        "\n",
        "row = df.first()\n",
        "\n",
        "powerbi_json = [\n",
        "    {\n",
        "        'TotalVehicles': row['TotalVehicles'],\n",
        "        'VehiclesOnTheWay': row['VehiclesOnTheWay'],\n",
        "        'Timestamp': datetime.now().isoformat()\n",
        "    }\n",
        "]\n",
        "resp = requests.post(powerbi_url, json=powerbi_json)\n",
        "print(resp)"
      ],
      "attachments": {}
    }
  ]
}