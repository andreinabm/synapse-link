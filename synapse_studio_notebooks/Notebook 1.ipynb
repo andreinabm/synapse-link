{
  "metadata": {
    "language_info": {
      "name": "python"
    },
    "sessionKeepAliveTimeout": 30
  },
  "nbformat": 4,
  "nbformat_minor": 2,
  "cells": [
    {
      "cell_type": "code",
      "execution_count": 4,
      "outputs": [
        {
          "execution_count": 4,
          "output_type": "execute_result",
          "data": {
            "application/json": {
              "isSummary": false,
              "language": "sql",
              "table": {
                "rows": [],
                "schema": {}
              }
            }
          },
          "metadata": {}
        }
      ],
      "metadata": {
        "diagram": {
          "activateDiagramType": 1,
          "chartConfig": {
            "category": "bar",
            "keys": [],
            "values": [],
            "yLabel": "",
            "xLabel": "",
            "aggregation": "SUM",
            "aggByBackend": false
          },
          "aggData": {},
          "isSummary": false,
          "previewData": {
            "filter": null
          },
          "isSql": true
        }
      },
      "source": [
        "%%sql\n",
        "create database VehiclesDemo"
      ],
      "attachments": {}
    },
    {
      "cell_type": "code",
      "execution_count": 5,
      "outputs": [
        {
          "execution_count": 5,
          "output_type": "execute_result",
          "data": {
            "application/json": {
              "isSummary": false,
              "language": "sql",
              "table": {
                "rows": [],
                "schema": {}
              }
            }
          },
          "metadata": {}
        }
      ],
      "metadata": {
        "diagram": {
          "activateDiagramType": 1,
          "chartConfig": {
            "category": "bar",
            "keys": [],
            "values": [],
            "yLabel": "",
            "xLabel": "",
            "aggregation": "SUM",
            "aggByBackend": false
          },
          "aggData": {},
          "isSummary": false,
          "previewData": {
            "filter": null
          },
          "isSql": true
        }
      },
      "source": [
        "%%sql\n",
        "\n",
        "-- Create a Spark table over Cosmos DB analytical store\n",
        "-- To select a preferred list of regions in a multi-region Cosmos DB account, add spark.cosmos.preferredRegions '<Region1>,<Region2>' in the config options\n",
        "\n",
        "create table VehiclesDemo.VehiclesLog using cosmos.olap options (\n",
        "    spark.synapse.linkedService 'CosmosDbTest',\n",
        "    spark.cosmos.container 'VehiclesLog'\n",
        ")"
      ]
    },
    {
      "cell_type": "code",
      "execution_count": 5,
      "outputs": [
        {
          "execution_count": 5,
          "output_type": "execute_result",
          "data": {
            "application/json": {
              "isSummary": false,
              "language": "sql",
              "table": {
                "rows": [
                  {
                    "count(1)": 4189
                  }
                ],
                "schema": {
                  "count(1)": "long"
                }
              }
            }
          },
          "metadata": {}
        }
      ],
      "metadata": {
        "diagram": {
          "activateDiagramType": 1,
          "chartConfig": {
            "category": "bar",
            "keys": [],
            "values": [
              "count(1)"
            ],
            "yLabel": "count(1)",
            "xLabel": "",
            "aggregation": "SUM",
            "aggByBackend": false
          },
          "aggData": {
            "count(1)": {
              "": 4189
            }
          },
          "isSummary": false,
          "previewData": {
            "filter": null
          },
          "isSql": true
        }
      },
      "source": [
        "%%sql\n",
        "select count(1) from VehiclesDemo.VehiclesLog"
      ],
      "attachments": {}
    },
    {
      "cell_type": "code",
      "execution_count": 6,
      "outputs": [
        {
          "execution_count": 6,
          "output_type": "execute_result",
          "data": {
            "application/json": {
              "isSummary": false,
              "language": "sql",
              "table": {
                "rows": [
                  {
                    "TotalVehicles": 1,
                    "VehiclesOnTheWay": 0
                  }
                ],
                "schema": {
                  "TotalVehicles": "long",
                  "VehiclesOnTheWay": "long"
                }
              }
            }
          },
          "metadata": {}
        }
      ],
      "metadata": {
        "diagram": {
          "activateDiagramType": 1,
          "chartConfig": {
            "category": "bar",
            "keys": [
              "VehiclesOnTheWay"
            ],
            "values": [
              "TotalVehicles"
            ],
            "yLabel": "TotalVehicles",
            "xLabel": "VehiclesOnTheWay",
            "aggregation": "SUM",
            "aggByBackend": false
          },
          "aggData": {
            "TotalVehicles": {
              "0": 1
            }
          },
          "isSummary": false,
          "previewData": {
            "filter": null
          },
          "isSql": true
        }
      },
      "source": [
        "%%sql\n",
        "SELECT\n",
        "    COUNT(distinct vehicle_id) as TotalVehicles,\n",
        "    COUNT(distinct CASE WHEN status IN ('trip-started','trip-otw','trip-finished') THEN vehicle_id ELSE NULL END) as VehiclesOnTheWay\n",
        "FROM (\n",
        "    SELECT\n",
        "        V.vehicle_id,\n",
        "        V.status\n",
        "    FROM FROM VehiclesDemo.VehiclesLog V\n",
        "    INNER JOIN (\n",
        "        SELECT\n",
        "            vehicle_id,\n",
        "            MAX(Timestamp) as max_timestamp\n",
        "        FROM VehiclesDemo.VehiclesLog\n",
        "        WHERE timestamp > '2020-07-29 16:00:40.000'\n",
        "        GROUP BY vehicle_id\n",
        "    ) V1 ON V.vehicle_id = V1.vehicle_id and v.timestamp = V1.max_timestamp\n",
        ") Vehicle(vehicle_id,status)\n",
        ""
      ],
      "attachments": {}
    },
    {
      "cell_type": "code",
      "execution_count": 4,
      "outputs": [
        {
          "execution_count": 4,
          "output_type": "execute_result",
          "data": {
            "text/plain": "<Response [200]>"
          },
          "metadata": {}
        }
      ],
      "metadata": {},
      "source": [
        "from datetime import datetime\n",
        "import requests\n",
        "\n",
        "powerbi_url = 'https://api.powerbi.com/beta/e6816e25-41db-4bb7-b1a6-25a718776f8c/datasets/0e52da13-d7f0-4de4-9c17-0dfae5901086/rows?noSignUpCheck=1&key=KuP07u%2BOUXi307hcRo2fqD6DCC93LaB5aLD5VmcOlKInPJhxfuT7j55ePVgA7I3SVp%2Bh087QfOwzlHF85d69Rw%3D%3D'\n",
        "\n",
        "df = spark.sql('''\n",
        "\tSELECT\n",
        "\t\tCOUNT(distinct vehicle_id) as TotalVehicles,\n",
        "\t\tCOUNT(distinct CASE WHEN status IN ('trip-started','trip-otw','trip-finished') THEN vehicle_id ELSE NULL END) as VehiclesOnTheWay\n",
        "\tFROM (\n",
        "\t\tSELECT\n",
        "\t\t\tV.vehicle_id,\n",
        "\t\t\tV.status\n",
        "\t\tFROM FROM VehiclesDemo.VehiclesLog V\n",
        "\t\tINNER JOIN (\n",
        "\t\t\tSELECT\n",
        "\t\t\t\tvehicle_id,\n",
        "\t\t\t\tMAX(Timestamp) as max_timestamp\n",
        "\t\t\tFROM VehiclesDemo.VehiclesLog\n",
        "\t\t\tWHERE timestamp > '2020-07-29 16:00:40.000'\n",
        "\t\t\tGROUP BY vehicle_id\n",
        "\t\t) V1 ON V.vehicle_id = V1.vehicle_id and v.timestamp = V1.max_timestamp\n",
        "\t) Vehicle(vehicle_id,status)\n",
        "''')\n",
        "\n",
        "row = df.first()\n",
        "\n",
        "powerbi_json = [\n",
        "    {\n",
        "        'TotalVehicles': row['TotalVehicles'],\n",
        "        'VehiclesOnTheWay': row['VehiclesOnTheWay'],\n",
        "        'Timestamp': datetime.now().isoformat()\n",
        "    }\n",
        "]\n",
        "resp = requests.post(powerbi_url, json=powerbi_json)\n",
        "print(resp)"
      ],
      "attachments": {}
    }
  ]
}